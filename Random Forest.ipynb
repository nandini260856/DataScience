{
 "cells": [
  {
   "cell_type": "markdown",
   "id": "a38fcf7b",
   "metadata": {},
   "source": [
    "## Nandini Kongani\n",
    "## CWID: 20020621\n",
    "## HW06_RF_C50"
   ]
  },
  {
   "cell_type": "markdown",
   "id": "6c96de1f",
   "metadata": {},
   "source": [
    "## 6.2"
   ]
  },
  {
   "cell_type": "code",
   "execution_count": 25,
   "id": "27d09119",
   "metadata": {},
   "outputs": [],
   "source": [
    "import pandas as pd\n",
    "from sklearn.model_selection import train_test_split\n",
    "from sklearn.tree import DecisionTreeClassifier\n",
    "from sklearn.ensemble import RandomForestClassifier\n",
    "from sklearn.metrics import confusion_matrix, classification_report, accuracy_score\n",
    "import seaborn as sns\n",
    "import matplotlib.pyplot as plt\n",
    "from sklearn.tree import plot_tree"
   ]
  },
  {
   "cell_type": "code",
   "execution_count": 26,
   "id": "04c626e1",
   "metadata": {},
   "outputs": [],
   "source": [
    "# Loading the dataset\n",
    "df = pd.read_csv('breast-cancer-wisconsin.csv')"
   ]
  },
  {
   "cell_type": "code",
   "execution_count": 27,
   "id": "f1a1dda4",
   "metadata": {},
   "outputs": [
    {
     "data": {
      "text/plain": [
       "Sample     0\n",
       "F1         0\n",
       "F2         0\n",
       "F3         0\n",
       "F4         0\n",
       "F5         0\n",
       "F6        16\n",
       "F7         0\n",
       "F8         0\n",
       "F9         0\n",
       "Class      0\n",
       "dtype: int64"
      ]
     },
     "execution_count": 27,
     "metadata": {},
     "output_type": "execute_result"
    }
   ],
   "source": [
    "#Identifying the missing values\n",
    "missing_values = df.isin(['?']).sum()\n",
    "missing_values"
   ]
  },
  {
   "cell_type": "code",
   "execution_count": 28,
   "id": "df6ad9ab",
   "metadata": {},
   "outputs": [],
   "source": [
    "# Repleace missing values \n",
    "df.replace('?', pd.NA, inplace=True)\n",
    "df.dropna(inplace=True)"
   ]
  },
  {
   "cell_type": "code",
   "execution_count": 29,
   "id": "f52d37ee",
   "metadata": {},
   "outputs": [
    {
     "name": "stdout",
     "output_type": "stream",
     "text": [
      "<class 'pandas.core.frame.DataFrame'>\n",
      "Int64Index: 683 entries, 0 to 698\n",
      "Data columns (total 10 columns):\n",
      " #   Column  Non-Null Count  Dtype\n",
      "---  ------  --------------  -----\n",
      " 0   Sample  683 non-null    int64\n",
      " 1   F1      683 non-null    int64\n",
      " 2   F2      683 non-null    int64\n",
      " 3   F3      683 non-null    int64\n",
      " 4   F4      683 non-null    int64\n",
      " 5   F5      683 non-null    int64\n",
      " 6   F7      683 non-null    int64\n",
      " 7   F8      683 non-null    int64\n",
      " 8   F9      683 non-null    int64\n",
      " 9   Class   683 non-null    int64\n",
      "dtypes: int64(10)\n",
      "memory usage: 58.7 KB\n",
      "<class 'pandas.core.frame.DataFrame'>\n",
      "Int64Index: 683 entries, 0 to 698\n",
      "Data columns (total 1 columns):\n",
      " #   Column  Non-Null Count  Dtype \n",
      "---  ------  --------------  ----- \n",
      " 0   F6      683 non-null    object\n",
      "dtypes: object(1)\n",
      "memory usage: 10.7+ KB\n"
     ]
    }
   ],
   "source": [
    "df_num= df.select_dtypes(exclude='object')\n",
    "df_obj= df.select_dtypes(include='object')\n",
    "df_num.info()\n",
    "df_obj.info()"
   ]
  },
  {
   "cell_type": "code",
   "execution_count": 30,
   "id": "0b15b373",
   "metadata": {},
   "outputs": [],
   "source": [
    "# Drop the 'Sample' column from the dataset\n",
    "attr = df.drop(['Sample', 'Class'], axis=1)\n",
    "target = df['Class']\n",
    "\n",
    "# Split the data into training and testing sets\n",
    "attr_train, attr_test, target_train, target_test = train_test_split(attr, target, test_size=0.2, random_state=42)"
   ]
  },
  {
   "cell_type": "code",
   "execution_count": 31,
   "id": "17cf938b",
   "metadata": {},
   "outputs": [],
   "source": [
    "from sklearn.ensemble import RandomForestClassifier\n",
    "model = RandomForestClassifier(n_estimators=100,random_state=8)"
   ]
  },
  {
   "cell_type": "code",
   "execution_count": 32,
   "id": "ccbf1390",
   "metadata": {},
   "outputs": [],
   "source": [
    "#Fit the model\n",
    "model.fit(attr_train,target_train)\n",
    "target_pred = model.predict(attr_test)"
   ]
  },
  {
   "cell_type": "code",
   "execution_count": 33,
   "id": "5d1d1c19",
   "metadata": {},
   "outputs": [
    {
     "name": "stdout",
     "output_type": "stream",
     "text": [
      "Accuracy= 0.948905109489051\n",
      "[[78  1]\n",
      " [ 6 52]]\n",
      "              precision    recall  f1-score   support\n",
      "\n",
      "           2       0.93      0.99      0.96        79\n",
      "           4       0.98      0.90      0.94        58\n",
      "\n",
      "    accuracy                           0.95       137\n",
      "   macro avg       0.95      0.94      0.95       137\n",
      "weighted avg       0.95      0.95      0.95       137\n",
      "\n"
     ]
    }
   ],
   "source": [
    "# Printing the accuracy score\n",
    "print(f\"Accuracy= {accuracy_score(target_test, target_pred)}\")\n",
    "\n",
    "# Printing the confusion matrix\n",
    "print(confusion_matrix(target_test, target_pred))\n",
    "\n",
    "# Printing the classification report\n",
    "print(classification_report(target_test, target_pred))"
   ]
  },
  {
   "cell_type": "code",
   "execution_count": 34,
   "id": "a0a9abe1",
   "metadata": {},
   "outputs": [
    {
     "name": "stdout",
     "output_type": "stream",
     "text": [
      "Mean Decrease Accuracy[0.04729854 0.3424266  0.21695001 0.02788748 0.06482666 0.12789797\n",
      " 0.1145886  0.04974948 0.00837466]\n",
      "\n",
      "Mean Decrease GINI= [0.02066364 0.14959828 0.09478045 0.0121834  0.02832127 0.05587567\n",
      " 0.05006112 0.0217344  0.0036587 ]\n"
     ]
    }
   ],
   "source": [
    "\n",
    "mean_decrease_accuracy = model.feature_importances_\n",
    "print(f\"Mean Decrease Accuracy{ mean_decrease_accuracy}\")\n",
    "\n",
    "gini_importance = model.feature_importances_ * model.estimators_[0].tree_.impurity[0]\n",
    "print(f\"\\nMean Decrease GINI= {gini_importance}\")\n",
    " "
   ]
  },
  {
   "cell_type": "code",
   "execution_count": 35,
   "id": "8b96bcbc",
   "metadata": {},
   "outputs": [
    {
     "data": {
      "image/png": "[encoded data removed]",
      "text/plain": [
       "<Figure size 1000x600 with 2 Axes>"
      ]
     },
     "metadata": {},
     "output_type": "display_data"
    }
   ],
   "source": [
    "plt.figure(figsize=(10, 6))\n",
    "\n",
    "# Plot for Mean Decrease Accuracy\n",
    "plt.subplot(2, 1, 1)\n",
    "plt.barh(range(len(mean_decrease_accuracy)), mean_decrease_accuracy, align='center')\n",
    "plt.yticks(range(len(mean_decrease_accuracy)), attr.columns)\n",
    "plt.xlabel('Mean Decrease Accuracy')\n",
    "plt.title('Feature Importance - Mean Decrease Accuracy')\n",
    "\n",
    "\n",
    "# Plot for Mean Decrease GINI\n",
    "plt.subplot(2, 1, 2)\n",
    "plt.barh(range(len(gini_importance)), gini_importance, align='center')\n",
    "plt.yticks(range(len(gini_importance)), attr.columns)\n",
    "plt.xlabel('Mean Decrease GINI')\n",
    "plt.title('Feature Importance - Mean Decrease GINI')\n",
    "\n",
    "plt.tight_layout()\n",
    "plt.show()"
   ]
  },
  {
   "cell_type": "code",
   "execution_count": 36,
   "id": "e7a13cbe",
   "metadata": {},
   "outputs": [
    {
     "name": "stdout",
     "output_type": "stream",
     "text": [
      "F2    0.342427\n",
      "F3    0.216950\n",
      "F6    0.127898\n",
      "F7    0.114589\n",
      "F5    0.064827\n",
      "F8    0.049749\n",
      "F1    0.047299\n",
      "F4    0.027887\n",
      "F9    0.008375\n",
      "dtype: float64\n"
     ]
    }
   ],
   "source": [
    "feature_scores = pd.Series(model.feature_importances_, index=attr_train.columns).sort_values(ascending=False)\n",
    "\n",
    "print(feature_scores)"
   ]
  },
  {
   "cell_type": "code",
   "execution_count": null,
   "id": "212a53a4",
   "metadata": {},
   "outputs": [],
   "source": []
  }
 ],
 "metadata": {
  "kernelspec": {
   "display_name": "Python 3 (ipykernel)",
   "language": "python",
   "name": "python3"
  },
  "language_info": {
   "codemirror_mode": {
    "name": "ipython",
    "version": 3
   },
   "file_extension": ".py",
   "mimetype": "text/x-python",
   "name": "python",
   "nbconvert_exporter": "python",
   "pygments_lexer": "ipython3",
   "version": "3.11.4"
  }
 },
 "nbformat": 4,
 "nbformat_minor": 5
}
