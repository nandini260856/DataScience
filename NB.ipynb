{
 "cells": [
  {
   "cell_type": "markdown",
   "id": "1d1f0620",
   "metadata": {},
   "source": [
    "# Name: Nandini Kongani\n",
    "### CWID: 20020621\n",
    "### Assignment Number and Name: 04 - NB\n"
   ]
  },
  {
   "cell_type": "code",
   "execution_count": 5,
   "id": "6a42cd40",
   "metadata": {},
   "outputs": [],
   "source": [
    "#importing the required libraries\n",
    "import pandas as pd\n",
    "from sklearn.model_selection import train_test_split\n",
    "from sklearn.naive_bayes import CategoricalNB\n",
    "from sklearn.preprocessing import OneHotEncoder\n",
    "from sklearn.compose import ColumnTransformer\n",
    "from sklearn.pipeline import Pipeline\n",
    "from sklearn.metrics import accuracy_score\n",
    "from sklearn.metrics import classification_report"
   ]
  },
  {
   "cell_type": "code",
   "execution_count": 6,
   "id": "751c1c8b",
   "metadata": {},
   "outputs": [],
   "source": [
    "# Load the breast cancer dataset\n",
    "df = pd.read_csv('breast-cancer-wisconsin.data.csv')\n",
    "df.replace(\"?\", pd.NA, inplace=True)\n",
    "df.dropna(inplace=True)\n",
    "df = df.astype(int)"
   ]
  },
  {
   "cell_type": "code",
   "execution_count": 7,
   "id": "4e44605d",
   "metadata": {},
   "outputs": [
    {
     "name": "stdout",
     "output_type": "stream",
     "text": [
      " The Accuracy is as: 0.975609756097561\n",
      "\n",
      "\n",
      "Classifiction Report\n",
      "\n",
      "\n",
      "              precision    recall  f1-score   support\n",
      "\n",
      "           2       0.99      0.97      0.98       130\n",
      "           4       0.95      0.99      0.97        75\n",
      "\n",
      "    accuracy                           0.98       205\n",
      "   macro avg       0.97      0.98      0.97       205\n",
      "weighted avg       0.98      0.98      0.98       205\n",
      "\n"
     ]
    }
   ],
   "source": [
    "# Dropping the 'Sample' column as it is an identifier and not a feature for prediction\n",
    "df = df.drop('Sample',axis=1)\n",
    "# defining the feature and the target variables\n",
    "X = df.drop('Class', axis=1)\n",
    "Y = df['Class']\n",
    "\n",
    "# Split the data into training and testing sets\n",
    "X_train, X_test, Y_train, Y_test = train_test_split(X, Y, test_size=0.3, random_state=0)\n",
    "\n",
    "# Initializing the Categorical Naive Bayes model\n",
    "cnb = CategoricalNB()\n",
    "\n",
    "# Training the model\n",
    "cnb.fit(X_train, Y_train)\n",
    "\n",
    "# Making the predictions on the test set\n",
    "Y_pred = cnb.predict(X_test)\n",
    "\n",
    "# Evaluating the accuracy\n",
    "accuracy_cnb = accuracy_score(Y_test, Y_pred)\n",
    "print(' The Accuracy is as:',accuracy_cnb)\n",
    "print('\\n')\n",
    "report = classification_report(Y_test, Y_pred)\n",
    "print('Classifiction Report')\n",
    "print('\\n')\n",
    "print(report)"
   ]
  },
  {
   "cell_type": "code",
   "execution_count": null,
   "id": "314ae83b",
   "metadata": {},
   "outputs": [],
   "source": []
  }
 ],
 "metadata": {
  "kernelspec": {
   "display_name": "Python 3 (ipykernel)",
   "language": "python",
   "name": "python3"
  },
  "language_info": {
   "codemirror_mode": {
    "name": "ipython",
    "version": 3
   },
   "file_extension": ".py",
   "mimetype": "text/x-python",
   "name": "python",
   "nbconvert_exporter": "python",
   "pygments_lexer": "ipython3",
   "version": "3.11.5"
  }
 },
 "nbformat": 4,
 "nbformat_minor": 5
}
