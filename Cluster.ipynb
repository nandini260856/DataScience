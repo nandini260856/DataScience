{
 "cells": [
  {
   "cell_type": "code",
   "execution_count": 8,
   "id": "1b8ef1db-315e-4963-8182-6970bddf1026",
   "metadata": {},
   "outputs": [],
   "source": [
    "import pandas as pd\n",
    "from scipy.cluster.hierarchy import dendrogram, linkage\n",
    "from sklearn.cluster import AgglomerativeClustering\n",
    "import numpy as np"
   ]
  },
  {
   "cell_type": "code",
   "execution_count": 9,
   "id": "c8945f53-b58e-4e5c-84c3-06121e370170",
   "metadata": {},
   "outputs": [
    {
     "name": "stdout",
     "output_type": "stream",
     "text": [
      "<class 'pandas.core.frame.DataFrame'>\n",
      "RangeIndex: 569 entries, 0 to 568\n",
      "Data columns (total 32 columns):\n",
      " #   Column                   Non-Null Count  Dtype  \n",
      "---  ------                   --------------  -----  \n",
      " 0   id                       569 non-null    int64  \n",
      " 1   diagnosis                569 non-null    object \n",
      " 2   radius_mean              569 non-null    float64\n",
      " 3   texture_mean             569 non-null    float64\n",
      " 4   perimeter_mean           569 non-null    float64\n",
      " 5   area_mean                569 non-null    float64\n",
      " 6   smoothness_mean          569 non-null    float64\n",
      " 7   compactness_mean         569 non-null    float64\n",
      " 8   concavity_mean           569 non-null    float64\n",
      " 9   concave points_mean      569 non-null    float64\n",
      " 10  symmetry_mean            569 non-null    float64\n",
      " 11  fractal_dimension_mean   569 non-null    float64\n",
      " 12  radius_se                569 non-null    float64\n",
      " 13  texture_se               569 non-null    float64\n",
      " 14  perimeter_se             569 non-null    float64\n",
      " 15  area_se                  569 non-null    float64\n",
      " 16  smoothness_se            569 non-null    float64\n",
      " 17  compactness_se           569 non-null    float64\n",
      " 18  concavity_se             569 non-null    float64\n",
      " 19  concave points_se        569 non-null    float64\n",
      " 20  symmetry_se              569 non-null    float64\n",
      " 21  fractal_dimension_se     569 non-null    float64\n",
      " 22  radius_worst             569 non-null    float64\n",
      " 23  texture_worst            569 non-null    float64\n",
      " 24  perimeter_worst          569 non-null    float64\n",
      " 25  area_worst               569 non-null    float64\n",
      " 26  smoothness_worst         569 non-null    float64\n",
      " 27  compactness_worst        569 non-null    float64\n",
      " 28  concavity_worst          569 non-null    float64\n",
      " 29  concave points_worst     569 non-null    float64\n",
      " 30  symmetry_worst           569 non-null    float64\n",
      " 31  fractal_dimension_worst  569 non-null    float64\n",
      "dtypes: float64(30), int64(1), object(1)\n",
      "memory usage: 142.4+ KB\n"
     ]
    },
    {
     "data": {
      "text/plain": [
       "(         id diagnosis  radius_mean  texture_mean  perimeter_mean  area_mean  \\\n",
       " 0    842302         M        17.99         10.38          122.80     1001.0   \n",
       " 1    842517         M        20.57         17.77          132.90     1326.0   \n",
       " 2  84300903         M        19.69         21.25          130.00     1203.0   \n",
       " 3  84348301         M        11.42         20.38           77.58      386.1   \n",
       " 4  84358402         M        20.29         14.34          135.10     1297.0   \n",
       " \n",
       "    smoothness_mean  compactness_mean  concavity_mean  concave points_mean  \\\n",
       " 0          0.11840           0.27760          0.3001              0.14710   \n",
       " 1          0.08474           0.07864          0.0869              0.07017   \n",
       " 2          0.10960           0.15990          0.1974              0.12790   \n",
       " 3          0.14250           0.28390          0.2414              0.10520   \n",
       " 4          0.10030           0.13280          0.1980              0.10430   \n",
       " \n",
       "    ...  radius_worst  texture_worst  perimeter_worst  area_worst  \\\n",
       " 0  ...         25.38          17.33           184.60      2019.0   \n",
       " 1  ...         24.99          23.41           158.80      1956.0   \n",
       " 2  ...         23.57          25.53           152.50      1709.0   \n",
       " 3  ...         14.91          26.50            98.87       567.7   \n",
       " 4  ...         22.54          16.67           152.20      1575.0   \n",
       " \n",
       "    smoothness_worst  compactness_worst  concavity_worst  concave points_worst  \\\n",
       " 0            0.1622             0.6656           0.7119                0.2654   \n",
       " 1            0.1238             0.1866           0.2416                0.1860   \n",
       " 2            0.1444             0.4245           0.4504                0.2430   \n",
       " 3            0.2098             0.8663           0.6869                0.2575   \n",
       " 4            0.1374             0.2050           0.4000                0.1625   \n",
       " \n",
       "    symmetry_worst  fractal_dimension_worst  \n",
       " 0          0.4601                  0.11890  \n",
       " 1          0.2750                  0.08902  \n",
       " 2          0.3613                  0.08758  \n",
       " 3          0.6638                  0.17300  \n",
       " 4          0.2364                  0.07678  \n",
       " \n",
       " [5 rows x 32 columns],\n",
       " None)"
      ]
     },
     "execution_count": 9,
     "metadata": {},
     "output_type": "execute_result"
    }
   ],
   "source": [
    "# Load the dataset\n",
    "file_path = 'wisc_bc_ContinuousVar 2.csv'\n",
    "data = pd.read_csv(file_path)\n",
    "\n",
    "# Display the first few rows of the dataset and its info\n",
    "data.head(), data.info()"
   ]
  },
  {
   "cell_type": "code",
   "execution_count": 10,
   "id": "de1168bd-21d2-4b8e-b7af-aaca67a56367",
   "metadata": {},
   "outputs": [
    {
     "name": "stderr",
     "output_type": "stream",
     "text": [
      "/opt/anaconda3/lib/python3.11/site-packages/sklearn/cluster/_agglomerative.py:983: FutureWarning: Attribute `affinity` was deprecated in version 1.2 and will be removed in 1.4. Use `metric` instead\n",
      "  warnings.warn(\n"
     ]
    },
    {
     "data": {
      "text/html": [
       "<div>\n",
       "<style scoped>\n",
       "    .dataframe tbody tr th:only-of-type {\n",
       "        vertical-align: middle;\n",
       "    }\n",
       "\n",
       "    .dataframe tbody tr th {\n",
       "        vertical-align: top;\n",
       "    }\n",
       "\n",
       "    .dataframe thead th {\n",
       "        text-align: right;\n",
       "    }\n",
       "</style>\n",
       "<table border=\"1\" class=\"dataframe\">\n",
       "  <thead>\n",
       "    <tr style=\"text-align: right;\">\n",
       "      <th>hclust_cluster</th>\n",
       "      <th>0</th>\n",
       "      <th>1</th>\n",
       "    </tr>\n",
       "    <tr>\n",
       "      <th>diagnosis</th>\n",
       "      <th></th>\n",
       "      <th></th>\n",
       "    </tr>\n",
       "  </thead>\n",
       "  <tbody>\n",
       "    <tr>\n",
       "      <th>B</th>\n",
       "      <td>357</td>\n",
       "      <td>0</td>\n",
       "    </tr>\n",
       "    <tr>\n",
       "      <th>M</th>\n",
       "      <td>126</td>\n",
       "      <td>86</td>\n",
       "    </tr>\n",
       "  </tbody>\n",
       "</table>\n",
       "</div>"
      ],
      "text/plain": [
       "hclust_cluster    0   1\n",
       "diagnosis              \n",
       "B               357   0\n",
       "M               126  86"
      ]
     },
     "execution_count": 10,
     "metadata": {},
     "output_type": "execute_result"
    }
   ],
   "source": [
    "# Selecting features for clustering (excluding 'id' and 'diagnosis')\n",
    "features = data.drop(['id', 'diagnosis'], axis=1)\n",
    "\n",
    "# Hierarchical clustering\n",
    "linked = linkage(features, 'ward')\n",
    "\n",
    "# Applying Agglomerative Clustering with 2 clusters\n",
    "hclust = AgglomerativeClustering(n_clusters=2, affinity='euclidean', linkage='ward')\n",
    "hclust_labels = hclust.fit_predict(features)\n",
    "\n",
    "# Adding the cluster labels to the dataset\n",
    "data['hclust_cluster'] = hclust_labels\n",
    "\n",
    "# Tabulate hclust_cluster against the 'diagnosis' column\n",
    "hclust_table = pd.crosstab(data['diagnosis'], data['hclust_cluster'])\n",
    "hclust_table\n"
   ]
  },
  {
   "cell_type": "code",
   "execution_count": 11,
   "id": "47f5f26d-d199-400d-b9cf-b06958132719",
   "metadata": {},
   "outputs": [
    {
     "name": "stderr",
     "output_type": "stream",
     "text": [
      "/opt/anaconda3/lib/python3.11/site-packages/sklearn/cluster/_kmeans.py:870: FutureWarning: The default value of `n_init` will change from 10 to 'auto' in 1.4. Set the value of `n_init` explicitly to suppress the warning\n",
      "  warnings.warn(\n"
     ]
    },
    {
     "data": {
      "text/html": [
       "<div>\n",
       "<style scoped>\n",
       "    .dataframe tbody tr th:only-of-type {\n",
       "        vertical-align: middle;\n",
       "    }\n",
       "\n",
       "    .dataframe tbody tr th {\n",
       "        vertical-align: top;\n",
       "    }\n",
       "\n",
       "    .dataframe thead th {\n",
       "        text-align: right;\n",
       "    }\n",
       "</style>\n",
       "<table border=\"1\" class=\"dataframe\">\n",
       "  <thead>\n",
       "    <tr style=\"text-align: right;\">\n",
       "      <th>kmeans_cluster</th>\n",
       "      <th>0</th>\n",
       "      <th>1</th>\n",
       "    </tr>\n",
       "    <tr>\n",
       "      <th>diagnosis</th>\n",
       "      <th></th>\n",
       "      <th></th>\n",
       "    </tr>\n",
       "  </thead>\n",
       "  <tbody>\n",
       "    <tr>\n",
       "      <th>B</th>\n",
       "      <td>356</td>\n",
       "      <td>1</td>\n",
       "    </tr>\n",
       "    <tr>\n",
       "      <th>M</th>\n",
       "      <td>82</td>\n",
       "      <td>130</td>\n",
       "    </tr>\n",
       "  </tbody>\n",
       "</table>\n",
       "</div>"
      ],
      "text/plain": [
       "kmeans_cluster    0    1\n",
       "diagnosis               \n",
       "B               356    1\n",
       "M                82  130"
      ]
     },
     "execution_count": 11,
     "metadata": {},
     "output_type": "execute_result"
    }
   ],
   "source": [
    "from sklearn.cluster import KMeans\n",
    "\n",
    "# k-means clustering\n",
    "kmeans = KMeans(n_clusters=2, random_state=0)\n",
    "kmeans_labels = kmeans.fit_predict(features)\n",
    "\n",
    "# Adding the k-means cluster labels to the dataset\n",
    "data['kmeans_cluster'] = kmeans_labels\n",
    "\n",
    "# Tabulate kmeans_cluster against the 'diagnosis' column\n",
    "kmeans_table = pd.crosstab(data['diagnosis'], data['kmeans_cluster'])\n",
    "kmeans_table\n"
   ]
  },
  {
   "cell_type": "code",
   "execution_count": null,
   "id": "0b6bbfa4-e880-4ee6-8773-65653e2be234",
   "metadata": {},
   "outputs": [],
   "source": []
  }
 ],
 "metadata": {
  "kernelspec": {
   "display_name": "Python 3 (ipykernel)",
   "language": "python",
   "name": "python3"
  },
  "language_info": {
   "codemirror_mode": {
    "name": "ipython",
    "version": 3
   },
   "file_extension": ".py",
   "mimetype": "text/x-python",
   "name": "python",
   "nbconvert_exporter": "python",
   "pygments_lexer": "ipython3",
   "version": "3.11.7"
  }
 },
 "nbformat": 4,
 "nbformat_minor": 5
}
